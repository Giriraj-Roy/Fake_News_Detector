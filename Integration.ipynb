{
 "cells": [
  {
   "cell_type": "code",
   "execution_count": 1,
   "source": [
    "import joblib\r\n",
    "import pandas as pd\r\n",
    "import re\r\n",
    "import trafilatura as tf\r\n",
    "import string\r\n",
    "from nltk.corpus import stopwords\r\n",
    "from nltk.stem.porter import PorterStemmer\r\n",
    "from sklearn.feature_extraction.text import TfidfVectorizer,CountVectorizer"
   ],
   "outputs": [],
   "metadata": {}
  },
  {
   "cell_type": "code",
   "execution_count": 2,
   "source": [
    "model = joblib.load('heading_model')\r\n",
    "cv = joblib.load('count_vectorizer')\r\n",
    "ps = PorterStemmer()\r\n",
    "def heading_vector(heading):\r\n",
    "    review = re.sub('[^a-zA-Z]',' ',heading)\r\n",
    "    review = review.lower()\r\n",
    "    review = review.split()\r\n",
    "    review = [ps.stem(word) for word in review if not word in stopwords.words('english')]\r\n",
    "    review = ' '.join(review)\r\n",
    "    review = cv.transform([review]).toarray()\r\n",
    "    return review\r\n"
   ],
   "outputs": [],
   "metadata": {}
  },
  {
   "cell_type": "code",
   "execution_count": 3,
   "source": [
    "heading =  \"Trump’s grandfather was a pimp and tax evader; his father a member of the KKK\"\r\n",
    "heading = heading_vector(heading)\r\n",
    "\r\n",
    "# =========if url is given==============\r\n",
    "# url = \"...paste url here\"\r\n",
    "# document = tf.fetch_url(url)\r\n",
    "# doc_dict = tf.bare_extraction(document)\r\n",
    "# url_heading = doc_dict['title']\r\n",
    "# ======================================\r\n",
    "\r\n",
    "result = model.predict(heading)\r\n",
    "print(result)"
   ],
   "outputs": [
    {
     "output_type": "stream",
     "name": "stdout",
     "text": [
      "[False]\n"
     ]
    }
   ],
   "metadata": {}
  },
  {
   "cell_type": "code",
   "execution_count": null,
   "source": [],
   "outputs": [],
   "metadata": {}
  }
 ],
 "metadata": {
  "kernelspec": {
   "name": "python3",
   "display_name": "Python 3.9.2 64-bit"
  },
  "language_info": {
   "codemirror_mode": {
    "name": "ipython",
    "version": 3
   },
   "file_extension": ".py",
   "mimetype": "text/x-python",
   "name": "python",
   "nbconvert_exporter": "python",
   "pygments_lexer": "ipython3",
   "version": "3.9.2"
  },
  "interpreter": {
   "hash": "079c93cf26a1ddbb66e6e1b5a2378997be9f3f0abd80e48e1baa4fd3c073bdef"
  }
 },
 "nbformat": 4,
 "nbformat_minor": 5
}